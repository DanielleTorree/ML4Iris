{
 "cells": [
  {
   "cell_type": "markdown",
   "id": "29303ca0",
   "metadata": {},
   "source": [
    "<a href=\"https://colab.research.google.com/github/dipucriodigital/ciencia-de-dados-e-analytics/blob/main/machine-learning/ML_Aula3b.ipynb\" target=\"_parent\"><img src=\"https://colab.research.google.com/assets/colab-badge.svg\" alt=\"Open In Colab\"/></a>"
   ]
  },
  {
   "cell_type": "markdown",
   "id": "765bd067",
   "metadata": {},
   "source": [
    "## Machine Learning - Danielle Torres\n",
    "## MVP: Sistemas Inteligentes "
   ]
  }
 ],
 "metadata": {
  "language_info": {
   "name": "python"
  }
 },
 "nbformat": 4,
 "nbformat_minor": 5
}

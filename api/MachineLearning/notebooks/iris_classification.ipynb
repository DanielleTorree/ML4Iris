{
  "cells": [
    {
      "cell_type": "markdown",
      "metadata": {},
      "source": [
        "## 🌸 Machine Learning\n",
        "### Aluna: Danielle Torres\n",
        "### Colab: https://colab.research.google.com/drive/1jwCFa6wNKrYt63uokDCRgE-qeqzMnbuQ"
      ]
    },
    {
      "cell_type": "markdown",
      "id": "de313339",
      "metadata": {},
      "source": [
        "## Classificação do dataset Iris"
      ]
    },
    {
      "cell_type": "markdown",
      "id": "be886deb",
      "metadata": {},
      "source": [
        "## Configuração do ambiente"
      ]
    },
    {
      "cell_type": "code",
      "execution_count": 3,
      "id": "edf75bba",
      "metadata": {},
      "outputs": [],
      "source": [
        "#%% Ambiente e Imports\n",
        "\n",
        "import warnings\n",
        "warnings.filterwarnings(\"ignore\")\n",
        "\n",
        "import pandas as pd\n",
        "import numpy as np\n",
        "import pickle\n",
        "import matplotlib.pyplot as plt\n",
        "\n",
        "from sklearn.preprocessing import StandardScaler, MinMaxScaler\n",
        "from sklearn.model_selection import train_test_split, StratifiedKFold, cross_val_score, GridSearchCV\n",
        "from sklearn.metrics import accuracy_score\n",
        "from sklearn.pipeline import Pipeline, make_pipeline\n",
        "\n",
        "from sklearn.linear_model import LogisticRegression\n",
        "from sklearn.tree import DecisionTreeClassifier\n",
        "from sklearn.neighbors import KNeighborsClassifier\n",
        "from sklearn.naive_bayes import GaussianNB\n",
        "from sklearn.svm import SVC\n",
        "\n",
        "from sklearn.ensemble import (\n",
        "    BaggingClassifier, RandomForestClassifier, ExtraTreesClassifier,\n",
        "    VotingClassifier, AdaBoostClassifier, GradientBoostingClassifier\n",
        ")"
      ]
    },
    {
      "cell_type": "markdown",
      "id": "5410be03",
      "metadata": {},
      "source": [
        "## Carga do Dataset\n",
        "\n",
        "Esta célula carrega o dataset Iris, um clássico em problemas de classificação,\n",
        "a partir de um arquivo CSV hospedado no GitHub. O dataset é lido usando a biblioteca pandas.\n",
        "\n",
        "O conjunto de dados contém informações sobre flores da espécie Iris, com as seguintes variáveis:\n",
        "- SepalLengthCm: comprimento da sépala em centímetros\n",
        "- SepalWidthCm: largura da sépala em centímetros\n",
        "- PetalLengthCm: comprimento da pétala em centímetros\n",
        "- PetalWidthCm: largura da pétala em centímetros\n",
        "- Species: espécie da flor, que pode ser uma das três classes:\n",
        "    - Iris-setosa\n",
        "    - Iris-versicolor\n",
        "    - Iris-virginica \n",
        "    \n",
        "Essas variáveis são atributos que serão usados para treinar e avaliar modelos de aprendizado de máquina.\n",
        "Após o carregamento, são exibidas as primeiras linhas do dataset e um resumo da estrutura dos dados."
      ]
    },
    {
      "cell_type": "code",
      "execution_count": 4,
      "id": "75245b5f",
      "metadata": {},
      "outputs": [
        {
          "data": {
            "text/html": [
              "<div>\n",
              "<style scoped>\n",
              "    .dataframe tbody tr th:only-of-type {\n",
              "        vertical-align: middle;\n",
              "    }\n",
              "\n",
              "    .dataframe tbody tr th {\n",
              "        vertical-align: top;\n",
              "    }\n",
              "\n",
              "    .dataframe thead th {\n",
              "        text-align: right;\n",
              "    }\n",
              "</style>\n",
              "<table border=\"1\" class=\"dataframe\">\n",
              "  <thead>\n",
              "    <tr style=\"text-align: right;\">\n",
              "      <th></th>\n",
              "      <th>SepalLengthCm</th>\n",
              "      <th>SepalWidthCm</th>\n",
              "      <th>PetalLengthCm</th>\n",
              "      <th>PetalWidthCm</th>\n",
              "      <th>Species</th>\n",
              "    </tr>\n",
              "  </thead>\n",
              "  <tbody>\n",
              "    <tr>\n",
              "      <th>0</th>\n",
              "      <td>5.1</td>\n",
              "      <td>3.5</td>\n",
              "      <td>1.4</td>\n",
              "      <td>0.2</td>\n",
              "      <td>Iris-setosa</td>\n",
              "    </tr>\n",
              "    <tr>\n",
              "      <th>1</th>\n",
              "      <td>4.9</td>\n",
              "      <td>3.0</td>\n",
              "      <td>1.4</td>\n",
              "      <td>0.2</td>\n",
              "      <td>Iris-setosa</td>\n",
              "    </tr>\n",
              "    <tr>\n",
              "      <th>2</th>\n",
              "      <td>4.7</td>\n",
              "      <td>3.2</td>\n",
              "      <td>1.3</td>\n",
              "      <td>0.2</td>\n",
              "      <td>Iris-setosa</td>\n",
              "    </tr>\n",
              "    <tr>\n",
              "      <th>3</th>\n",
              "      <td>4.6</td>\n",
              "      <td>3.1</td>\n",
              "      <td>1.5</td>\n",
              "      <td>0.2</td>\n",
              "      <td>Iris-setosa</td>\n",
              "    </tr>\n",
              "    <tr>\n",
              "      <th>4</th>\n",
              "      <td>5.0</td>\n",
              "      <td>3.6</td>\n",
              "      <td>1.4</td>\n",
              "      <td>0.2</td>\n",
              "      <td>Iris-setosa</td>\n",
              "    </tr>\n",
              "  </tbody>\n",
              "</table>\n",
              "</div>"
            ],
            "text/plain": [
              "   SepalLengthCm  SepalWidthCm  PetalLengthCm  PetalWidthCm      Species\n",
              "0            5.1           3.5            1.4           0.2  Iris-setosa\n",
              "1            4.9           3.0            1.4           0.2  Iris-setosa\n",
              "2            4.7           3.2            1.3           0.2  Iris-setosa\n",
              "3            4.6           3.1            1.5           0.2  Iris-setosa\n",
              "4            5.0           3.6            1.4           0.2  Iris-setosa"
            ]
          },
          "execution_count": 4,
          "metadata": {},
          "output_type": "execute_result"
        }
      ],
      "source": [
        "#%% Carga do Dataset\n",
        "\n",
        "dataset_path = \"https://raw.githubusercontent.com/DanielleTorree/ML4Iris/main/api/MachineLearning/dataset/dataset_iris.csv\"\n",
        "dataset = pd.read_csv(dataset_path)\n",
        "dataset.head()"
      ]
    },
    {
      "cell_type": "code",
      "execution_count": 5,
      "id": "96f38b16",
      "metadata": {},
      "outputs": [
        {
          "name": "stdout",
          "output_type": "stream",
          "text": [
            "<class 'pandas.core.frame.DataFrame'>\n",
            "RangeIndex: 150 entries, 0 to 149\n",
            "Data columns (total 5 columns):\n",
            " #   Column         Non-Null Count  Dtype  \n",
            "---  ------         --------------  -----  \n",
            " 0   SepalLengthCm  150 non-null    float64\n",
            " 1   SepalWidthCm   150 non-null    float64\n",
            " 2   PetalLengthCm  150 non-null    float64\n",
            " 3   PetalWidthCm   150 non-null    float64\n",
            " 4   Species        150 non-null    object \n",
            "dtypes: float64(4), object(1)\n",
            "memory usage: 6.0+ KB\n"
          ]
        }
      ],
      "source": [
        "dataset.info()"
      ]
    },
    {
      "cell_type": "markdown",
      "id": "a3704d85",
      "metadata": {},
      "source": [
        "## Separação dos Dados\n",
        "\n",
        "Nesta etapa, o conjunto de dados é preparado para o treinamento e avaliação do modelo.\n",
        "\n",
        "Primeiramente, são separadas as variáveis independentes (X) e a variável dependente (y):\n",
        "- X corresponde às quatro características numéricas das flores.\n",
        "- y corresponde à espécie da flor, que é a variável alvo.\n",
        "\n",
        "Em seguida, os dados são divididos em dois subconjuntos:\n",
        "- Conjunto de treino (80%)\n",
        "- Conjunto de teste (20%)\n",
        "A divisão é realizada de forma estratificada, mantendo a proporção das classes da variável alvo.\n",
        "\n",
        "Também é definida a estratégia de validação cruzada:\n",
        "- Utiliza-se o método StratifiedKFold com 10 divisões (folds)\n",
        "- A validação é estratificada e embaralhada, garantindo representatividade das classes em cada partição\n",
        "- A métrica escolhida para avaliação é a acurácia (\"accuracy\")\n"
      ]
    },
    {
      "cell_type": "code",
      "execution_count": 6,
      "id": "8a94f4a5",
      "metadata": {},
      "outputs": [],
      "source": [
        "#%% Separação dos Dados\n",
        "\n",
        "test_size = 0.20\n",
        "seed = 7\n",
        "X = dataset.iloc[:, 0:4].values\n",
        "y = dataset.iloc[:, 4].values\n",
        "\n",
        "X_train, X_test, y_train, y_test = train_test_split(\n",
        "    X, y, test_size=test_size, random_state=seed, stratify=y\n",
        ")\n",
        "\n",
        "num_folds = 10\n",
        "scoring = \"accuracy\"\n",
        "kfold = StratifiedKFold(n_splits=num_folds, shuffle=True, random_state=seed)"
      ]
    },
    {
      "cell_type": "markdown",
      "id": "0e5f34b7",
      "metadata": {},
      "source": [
        "## Modelagem - Linha Base e Ensembles\n",
        "\n",
        "Neste bloco, são definidos os modelos que serão utilizados na avaliação.\n",
        "\n",
        "Primeiro, são criados os modelos de linha base, que servem como referência inicial de desempenho.\n",
        "Esses modelos incluem:\n",
        "- Regressão Logística (LR)\n",
        "- K-Nearest Neighbors (KNN)\n",
        "- Árvore de Decisão (CART)\n",
        "- Naive Bayes (NB)\n",
        "- Suporte a Vetores de Máquinas (SVM)\n",
        "\n",
        "Em seguida, são definidos os modelos do tipo ensemble, que combinam vários algoritmos\n",
        "para melhorar a precisão das previsões. Entre eles estão:\n",
        "- Bagging\n",
        "- Random Forest\n",
        "- Extra Trees\n",
        "- AdaBoost\n",
        "- Gradient Boosting\n",
        "- VotingClassifier (que combina Regressão Logística, Árvore de Decisão e SVM)\n",
        "\n",
        "Todos os modelos são reunidos na lista 'all_models', que será usada na etapa de avaliação.\n"
      ]
    },
    {
      "cell_type": "code",
      "execution_count": 7,
      "id": "e4726e03",
      "metadata": {},
      "outputs": [],
      "source": [
        "#%% Modelagem - Linha Base e Ensembles\n",
        "\n",
        "np.random.seed(seed)\n",
        "\n",
        "base_models = [\n",
        "    (\"LR\", LogisticRegression(max_iter=200)),\n",
        "    (\"KNN\", KNeighborsClassifier()),\n",
        "    (\"CART\", DecisionTreeClassifier()),\n",
        "    (\"NB\", GaussianNB()),\n",
        "    (\"SVM\", SVC())\n",
        "]\n",
        "\n",
        "base_estimator = DecisionTreeClassifier()\n",
        "num_trees = 100\n",
        "max_features = 3\n",
        "\n",
        "voting_models = [\n",
        "    (\"logistic\", LogisticRegression(max_iter=200)),\n",
        "    (\"cart\", DecisionTreeClassifier()),\n",
        "    (\"svm\", SVC())\n",
        "]\n",
        "\n",
        "ensemble_models = [\n",
        "    (\"Bagging\", BaggingClassifier(estimator=base_estimator, n_estimators=num_trees)),\n",
        "    (\"RF\", RandomForestClassifier(n_estimators=num_trees, max_features=max_features)),\n",
        "    (\"ET\", ExtraTreesClassifier(n_estimators=num_trees, max_features=max_features)),\n",
        "    (\"Ada\", AdaBoostClassifier(n_estimators=num_trees)),\n",
        "    (\"GB\", GradientBoostingClassifier(n_estimators=num_trees)),\n",
        "    (\"Voting\", VotingClassifier(estimators=voting_models))\n",
        "]\n",
        "\n",
        "all_models = base_models + ensemble_models"
      ]
    },
    {
      "cell_type": "markdown",
      "id": "99fea142",
      "metadata": {},
      "source": [
        "## Avaliação dos Modelos\n",
        "\n",
        "Nesta etapa, os modelos definidos anteriormente são avaliados.\n",
        "\n",
        "Cada modelo é testado utilizando validação cruzada com 10 divisões (StratifiedKFold),\n",
        "o que permite estimar seu desempenho de forma mais confiável.\n",
        "\n",
        "Para cada modelo, são calculadas as médias e desvios padrão das acurácias obtidas em cada divisão.\n",
        "Os resultados são armazenados para posterior comparação.\n",
        "\n",
        "Por fim, é gerado um gráfico de boxplot que permite visualizar, de forma clara,\n",
        "o desempenho de todos os modelos com base na métrica de acurácia.\n"
      ]
    },
    {
      "cell_type": "code",
      "execution_count": null,
      "id": "d3ddd089",
      "metadata": {},
      "outputs": [
        {
          "name": "stdout",
          "output_type": "stream",
          "text": [
            "LR: 0.9500 (0.0408)\n",
            "KNN: 0.9250 (0.0692)\n",
            "CART: 0.9333 (0.0500)\n",
            "NB: 0.9417 (0.0534)\n",
            "SVM: 0.9583 (0.0417)\n",
            "Bagging: 0.9333 (0.0624)\n",
            "RF: 0.9417 (0.0534)\n",
            "ET: 0.9417 (0.0534)\n",
            "Ada: 0.9333 (0.0624)\n",
            "GB: 0.9417 (0.0534)\n",
            "Voting: 0.9500 (0.0408)\n"
          ]
        },
        {
          "data": {
            "image/png": "[encoded data removed]",
            "text/plain": [
              "<Figure size 1500x800 with 1 Axes>"
            ]
          },
          "metadata": {},
          "output_type": "display_data"
        }
      ],
      "source": [
        "#%% Avaliação dos Modelos\n",
        "\n",
        "results = []\n",
        "names = []\n",
        "\n",
        "for name, model in all_models:\n",
        "    cv_scores = cross_val_score(model, X_train, y_train, cv=kfold, scoring=scoring)\n",
        "    results.append(cv_scores)\n",
        "    names.append(name)\n",
        "    print(f\"{name}: {cv_scores.mean():.4f} ({cv_scores.std():.4f})\")\n",
        "\n",
        "plt.figure(figsize=(15, 8))\n",
        "plt.title(\"Comparação dos Modelos - Acurácia\")\n",
        "plt.boxplot(results, labels=names)\n",
        "plt.ylabel(\"Acurácia\")\n",
        "plt.grid(True)\n",
        "plt.show()"
      ]
    },
    {
      "cell_type": "markdown",
      "id": "756ee9cc",
      "metadata": {},
      "source": [
        "## Modelagem com dados padronizados e normalizados usando Pipelines\n",
        "\n",
        "Nesta etapa, os modelos são avaliados considerando diferentes formas de pré-processamento dos dados.\n",
        "\n",
        "São utilizadas três versões dos dados para treinamento:\n",
        "- Dados originais, sem transformação\n",
        "- Dados padronizados, aplicando StandardScaler, que transforma cada valor conforme a fórmula:\n",
        " \n",
        "  Fórmula: $z_i = \\frac{x_i - \\mu}{\\sigma}$\n",
        "\n",
        "  onde $\\mu$ é a média da variável e $\\sigma$ é o desvio padrão.\n",
        "\n",
        "- Dados normalizados, aplicando MinMaxScaler, que escala os valores para o intervalo [0, 1] segundo a fórmula:\n",
        "\n",
        "  Fórmula: $x'_i = \\frac{x_i - x_{min}}{x_{max} - x_{min}}$\n",
        "\n",
        "  onde $x_{min}$ e $x_{max}$ são os valores mínimo e máximo da variável, respectivamente.\n",
        "\n",
        "Para facilitar o processo, são criadas pipelines que combinam o pré-processamento com cada modelo.\n",
        "\n",
        "Cada pipeline é avaliada usando validação cruzada estratificada com 10 folds, calculando-se a acurácia média e o desvio padrão.\n",
        "\n",
        "Os resultados são apresentados em um gráfico de boxplot para comparar o desempenho dos modelos nas três versões dos dados.\n"
      ]
    },
    {
      "cell_type": "code",
      "execution_count": 8,
      "id": "df9973fa",
      "metadata": {},
      "outputs": [
        {
          "name": "stdout",
          "output_type": "stream",
          "text": [
            "LR-orig: 0.9500 (0.0408)\n",
            "LR-std: 0.9417 (0.0534)\n",
            "LR-minmax: 0.9250 (0.0786)\n",
            "KNN-orig: 0.9250 (0.0692)\n",
            "KNN-std: 0.9417 (0.0651)\n",
            "KNN-minmax: 0.9583 (0.0559)\n",
            "CART-orig: 0.9333 (0.0500)\n",
            "CART-std: 0.9417 (0.0534)\n",
            "CART-minmax: 0.9417 (0.0534)\n",
            "NB-orig: 0.9417 (0.0534)\n",
            "NB-std: 0.9417 (0.0534)\n",
            "NB-minmax: 0.9417 (0.0534)\n",
            "SVM-orig: 0.9583 (0.0417)\n",
            "SVM-std: 0.9417 (0.0534)\n",
            "SVM-minmax: 0.9500 (0.0408)\n",
            "Bagging-orig: 0.9417 (0.0534)\n",
            "Bagging-std: 0.9417 (0.0534)\n",
            "Bagging-minmax: 0.9417 (0.0534)\n",
            "RF-orig: 0.9333 (0.0624)\n",
            "RF-std: 0.9417 (0.0534)\n",
            "RF-minmax: 0.9417 (0.0534)\n",
            "ET-orig: 0.9333 (0.0624)\n",
            "ET-std: 0.9417 (0.0534)\n",
            "ET-minmax: 0.9333 (0.0624)\n",
            "Ada-orig: 0.9333 (0.0624)\n",
            "Ada-std: 0.9333 (0.0624)\n",
            "Ada-minmax: 0.9333 (0.0624)\n",
            "GB-orig: 0.9417 (0.0534)\n",
            "GB-std: 0.9417 (0.0534)\n",
            "GB-minmax: 0.9417 (0.0534)\n",
            "Voting-orig: 0.9500 (0.0408)\n",
            "Voting-std: 0.9417 (0.0534)\n",
            "Voting-minmax: 0.9417 (0.0534)\n"
          ]
        },
        {
          "data": {
            "image/png": "[encoded data removed]",
            "text/plain": [
              "<Figure size 2500x600 with 1 Axes>"
            ]
          },
          "metadata": {},
          "output_type": "display_data"
        }
      ],
      "source": [
        "#%% Modelagem com dados padronizados e normalizados usando Pipelines\n",
        "\n",
        "standard_scaler = (\"StandardScaler\", StandardScaler())\n",
        "minmax_scaler = (\"MinMaxScaler\", MinMaxScaler())\n",
        "\n",
        "pipelines = []\n",
        "\n",
        "for name, model in all_models: \n",
        "    pipelines.append((f\"{name}-orig\", Pipeline(steps=[(name, model)])))\n",
        "    pipelines.append((f\"{name}-std\", Pipeline(steps=[standard_scaler, (name, model)])))\n",
        "    pipelines.append((f\"{name}-minmax\", Pipeline(steps=[minmax_scaler, (name, model)])))\n",
        "\n",
        "results = [] \n",
        "names = []\n",
        "\n",
        "for name, pipeline in pipelines:\n",
        "    cv_results = cross_val_score(pipeline, X_train, y_train, cv=kfold, scoring=scoring)\n",
        "    results.append(cv_results)\n",
        "    names.append(name)\n",
        "    print(f\"{name}: {cv_results.mean():.4f} ({cv_results.std():.4f})\")\n",
        "\n",
        "plt.figure(figsize=(25, 6))\n",
        "plt.title(\"Comparação de Modelos - Dataset Original, Padronizado e Normalizado\")\n",
        "plt.boxplot(results, labels=names)\n",
        "plt.xticks(rotation=90)\n",
        "plt.grid(True)\n",
        "plt.show()"
      ]
    },
    {
      "cell_type": "markdown",
      "id": "1186aa73",
      "metadata": {},
      "source": [
        "## Otimização de hiperparâmetros com Grid Search\n",
        "\n",
        "Nesta etapa, é realizada a otimização dos hiperparâmetros de alguns modelos selecionados.\n",
        "\n",
        "Define-se um conjunto de parâmetros (param_grid) para os modelos:\n",
        "- Regressão Logística (LR)\n",
        "- K-Nearest Neighbors (KNN)\n",
        "- Random Forest (RF)\n",
        "\n",
        "Para cada modelo e seu respectivo pipeline, é aplicado o Grid Search com validação cruzada de 5 folds,\n",
        "buscando a combinação de parâmetros que maximiza a acurácia.\n",
        "\n",
        "Ao final, é exibida a melhor pontuação obtida e os parâmetros correspondentes para cada modelo otimizado.\n"
      ]
    },
    {
      "cell_type": "code",
      "execution_count": null,
      "id": "90393d37",
      "metadata": {},
      "outputs": [
        {
          "name": "stdout",
          "output_type": "stream",
          "text": [
            "Modelo: LR-orig - Melhor: 0.9833 usando {'LR__C': 0.5, 'LR__solver': 'saga'}\n",
            "Modelo: LR-std - Melhor: 0.9500 usando {'LR__C': 0.5, 'LR__solver': 'saga'}\n",
            "Modelo: LR-minmax - Melhor: 0.9417 usando {'LR__C': 2, 'LR__solver': 'saga'}\n",
            "Modelo: KNN-orig - Melhor: 0.9750 usando {'KNN__metric': 'euclidean', 'KNN__n_neighbors': 11}\n",
            "Modelo: KNN-std - Melhor: 0.9583 usando {'KNN__metric': 'euclidean', 'KNN__n_neighbors': 9}\n",
            "Modelo: KNN-minmax - Melhor: 0.9500 usando {'KNN__metric': 'euclidean', 'KNN__n_neighbors': 9}\n",
            "Modelo: RF-orig - Melhor: 0.9500 usando {'RF__max_depth': None, 'RF__max_features': 'sqrt', 'RF__min_samples_leaf': 2, 'RF__min_samples_split': 2, 'RF__n_estimators': 5}\n",
            "Modelo: RF-std - Melhor: 0.9583 usando {'RF__max_depth': None, 'RF__max_features': 'sqrt', 'RF__min_samples_leaf': 1, 'RF__min_samples_split': 5, 'RF__n_estimators': 5}\n",
            "Modelo: RF-minmax - Melhor: 0.9667 usando {'RF__max_depth': None, 'RF__max_features': 'sqrt', 'RF__min_samples_leaf': 2, 'RF__min_samples_split': 2, 'RF__n_estimators': 20}\n"
          ]
        }
      ],
      "source": [
        "#%% Otimização de hiperparâmetros com Grid Search\n",
        "\n",
        "param_grids = {\n",
        "    \"LR\": {\n",
        "        \"LR__C\": [0.5, 1, 2],\n",
        "        \"LR__solver\": [\"saga\"],\n",
        "    },\n",
        "    \"KNN\": {\n",
        "        \"KNN__n_neighbors\": [9, 11, 13],\n",
        "        \"KNN__metric\": [\"euclidean\"],\n",
        "    },\n",
        "    \"RF\": {\n",
        "        \"RF__n_estimators\": [5, 10, 20],\n",
        "        \"RF__max_features\": [\"sqrt\"],\n",
        "        \"RF__max_depth\": [None, 10],\n",
        "        \"RF__min_samples_split\": [2, 5],\n",
        "        \"RF__min_samples_leaf\": [1, 2],\n",
        "    }\n",
        "}\n",
        "\n",
        "grid_models = [\"LR\", \"KNN\", \"RF\"]\n",
        "kfold_gs = 5\n",
        "\n",
        "for name, pipeline in pipelines:\n",
        "    model_key = name.split(\"-\")[0]\n",
        "    if model_key in grid_models:\n",
        "        param_grid = param_grids[model_key]\n",
        "        grid = GridSearchCV(pipeline, param_grid=param_grid, scoring=scoring, cv=kfold_gs, n_jobs=-1)\n",
        "        grid.fit(X_train, y_train)\n",
        "        print(f\"Modelo: {name} - Melhor: {grid.best_score_:.4f} usando {grid.best_params_}\")"
      ]
    },
    {
      "cell_type": "code",
      "execution_count": 9,
      "id": "82226af5",
      "metadata": {},
      "outputs": [],
      "source": [
        "# Modelo: LR-orig - Melhor: 0.9833 usando {'LR__C': 0.5, 'LR__solver': 'saga'}\n",
        "# Modelo: LR-std - Melhor: 0.9500 usando {'LR__C': 0.5, 'LR__solver': 'saga'}\n",
        "# Modelo: LR-minmax - Melhor: 0.9417 usando {'LR__C': 2, 'LR__solver': 'saga'}\n",
        "# Modelo: KNN-orig - Melhor: 0.9750 usando {'KNN__metric': 'euclidean', 'KNN__n_neighbors': 11}\n",
        "# Modelo: KNN-std - Melhor: 0.9583 usando {'KNN__metric': 'euclidean', 'KNN__n_neighbors': 9}\n",
        "# Modelo: KNN-minmax - Melhor: 0.9500 usando {'KNN__metric': 'euclidean', 'KNN__n_neighbors': 9}\n",
        "# Modelo: RF-orig - Melhor: 0.9500 usando {'RF__max_depth': None, 'RF__max_features': 'sqrt', 'RF__min_samples_leaf': 2, 'RF__min_samples_split': 2, 'RF__n_estimators': 5}\n",
        "# Modelo: RF-std - Melhor: 0.9583 usando {'RF__max_depth': None, 'RF__max_features': 'sqrt', 'RF__min_samples_leaf': 1, 'RF__min_samples_split': 5, 'RF__n_estimators': 5}\n",
        "# Modelo: RF-minmax - Melhor: 0.9667 usando {'RF__max_depth': None, 'RF__max_features': 'sqrt', 'RF__min_samples_leaf': 2, 'RF__min_samples_split': 2, 'RF__n_estimators': 20}"
      ]
    },
    {
      "cell_type": "markdown",
      "id": "52ead334",
      "metadata": {},
      "source": [
        "## Treinamento final e avaliação no conjunto teste\n",
        "\n",
        "Nesta etapa, o modelo final escolhido, uma Random Forest com parâmetros específicos,\n",
        "é treinado usando o conjunto de dados de treinamento.\n",
        "\n",
        "O pipeline inclui a normalização dos dados com MinMaxScaler antes do treinamento.\n",
        "\n",
        "Após o treinamento, o modelo é testado no conjunto de teste separado anteriormente,\n",
        "e a acurácia obtida é exibida para avaliar o desempenho do modelo na generalização.\n"
      ]
    },
    {
      "cell_type": "code",
      "execution_count": 10,
      "id": "f280d29a",
      "metadata": {},
      "outputs": [
        {
          "name": "stdout",
          "output_type": "stream",
          "text": [
            "Acurácia no conjunto teste: 1.0000\n"
          ]
        }
      ],
      "source": [
        "#%% Treinamento final e avaliação no conjunto teste\n",
        "\n",
        "final_model = RandomForestClassifier(\n",
        "    n_estimators=50,\n",
        "    max_features=\"sqrt\",\n",
        "    min_samples_split=2,\n",
        "    max_depth=10,\n",
        "    min_samples_leaf=1,\n",
        ")\n",
        "\n",
        "pipeline_final = make_pipeline(MinMaxScaler(), final_model)\n",
        "pipeline_final.fit(X_train, y_train)\n",
        "\n",
        "y_pred = pipeline_final.predict(X_test)\n",
        "print(f\"Acurácia no conjunto teste: {accuracy_score(y_test, y_pred):.4f}\")"
      ]
    },
    {
      "cell_type": "markdown",
      "id": "d5015912",
      "metadata": {},
      "source": [
        "## Salvando modelo e scaler\n",
        "\n",
        "Nesta etapa, são criadas pastas para armazenar os arquivos gerados durante o processo,\n",
        "garantindo que os diretórios existam.\n",
        "\n",
        "Em seguida, são salvos em disco:\n",
        "- O modelo final treinado (Random Forest) no arquivo \"rf_iris_classifier.pkl\"\n",
        "- O objeto do scaler utilizado (MinMaxScaler) no arquivo \"minmax_scaler_iris.pkl\"\n",
        "- A pipeline completa, que inclui o pré-processamento e o modelo, no arquivo \"rf_iris_pipeline.pkl\"\n",
        "\n",
        "Também são salvos em CSV os dados de teste (X_test e y_test), para possível uso futuro ou validação externa.\n"
      ]
    },
    {
      "cell_type": "code",
      "execution_count": 11,
      "id": "6c3599f2",
      "metadata": {},
      "outputs": [],
      "source": [
        "#%% Salvando modelo e scaler\n",
        "\n",
        "import os\n",
        "\n",
        "os.makedirs(\"../models\", exist_ok=True)\n",
        "os.makedirs(\"../scalers\", exist_ok=True)\n",
        "os.makedirs(\"../pipelines\", exist_ok=True)\n",
        "os.makedirs(\"../data\", exist_ok=True)\n",
        "\n",
        "with open(\"../models/rf_iris_classifier.pkl\", \"wb\") as f:\n",
        "    pickle.dump(final_model, f)\n",
        "\n",
        "with open(\"../scalers/minmax_scaler_iris.pkl\", \"wb\") as f:\n",
        "    pickle.dump(pipeline_final.named_steps[\"minmaxscaler\"], f)\n",
        "\n",
        "with open(\"../pipelines/rf_iris_pipeline.pkl\", \"wb\") as f:\n",
        "    pickle.dump(pipeline_final, f)\n",
        "\n",
        "pd.DataFrame(X_test, columns=dataset.columns[:-1]).to_csv(\"../data/X_test_iris.csv\", index=False)\n",
        "pd.DataFrame(y_test, columns=[dataset.columns[-1]]).to_csv(\"../data/y_test_iris.csv\", index=False)"
      ]
    },
    {
      "cell_type": "markdown",
      "id": "a1f210ab",
      "metadata": {},
      "source": [
        "## Simulação de predição em dados novos\n",
        "\n",
        "Nesta etapa, são criados novos dados com as mesmas características do dataset original.\n",
        "\n",
        "Os dados são convertidos para o formato numérico e passam pelo mesmo processo de normalização\n",
        "utilizado no treinamento, garantindo que as escalas sejam compatíveis.\n",
        "\n",
        "Em seguida, o modelo final treinado realiza as previsões da espécie da flor para esses novos exemplos.\n",
        "\n",
        "Por fim, as previsões são exibidas no console.\n"
      ]
    },
    {
      "cell_type": "code",
      "execution_count": 12,
      "id": "85c8134f",
      "metadata": {},
      "outputs": [
        {
          "name": "stdout",
          "output_type": "stream",
          "text": [
            "Previsões para novos dados: ['Iris-setosa' 'Iris-virginica' 'Iris-versicolor' 'Iris-setosa']\n"
          ]
        }
      ],
      "source": [
        "#%% Simulação de predição em dados novos\n",
        "\n",
        "new_data = pd.DataFrame({\n",
        "    \"SepalLengthCm\": [5.1, 6.2, 5.9, 4.7],\n",
        "    \"SepalWidthCm\": [3.5, 2.8, 3.0, 3.2],\n",
        "    \"PetalLengthCm\": [1.4, 4.8, 4.2, 1.3],\n",
        "    \"PetalWidthCm\": [0.2, 1.8, 1.3, 0.2]\n",
        "})\n",
        "\n",
        "X_new = new_data.values.astype(float)\n",
        "X_new_scaled = pipeline_final.named_steps[\"minmaxscaler\"].transform(X_new)\n",
        "predictions = final_model.predict(X_new_scaled)\n",
        "print(\"Previsões para novos dados:\", predictions)"
      ]
    }
  ],
  "metadata": {
    "kernelspec": {
      "display_name": "Python 3",
      "language": "python",
      "name": "python3"
    },
    "language_info": {
      "codemirror_mode": {
        "name": "ipython",
        "version": 3
      },
      "file_extension": ".py",
      "mimetype": "text/x-python",
      "name": "python",
      "nbconvert_exporter": "python",
      "pygments_lexer": "ipython3",
      "version": "3.11.2"
    }
  },
  "nbformat": 4,
  "nbformat_minor": 5
}
